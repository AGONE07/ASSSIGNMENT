{
  "cells": [
    {
      "cell_type": "markdown",
      "id": "e3851628-0a03-424e-b8d5-b36d2c96ebf0",
      "metadata": {
        "id": "e3851628-0a03-424e-b8d5-b36d2c96ebf0"
      },
      "source": [
        "1. What is the difference between a function and a method in Python?\n",
        "\n",
        "   Answer:- Function: A function is a block of code that performs a specific task and can                         be used independently.\n",
        "\n",
        "   Method: A method is a function that is associated with an object (usually of a                      class).\n",
        "   "
      ]
    },
    {
      "cell_type": "code",
      "execution_count": null,
      "id": "0725367e-cb22-4c97-8e43-df224798fcbe",
      "metadata": {
        "id": "0725367e-cb22-4c97-8e43-df224798fcbe",
        "outputId": "8e038a12-2e1c-4d0f-b613-f704919e697e"
      },
      "outputs": [
        {
          "name": "stdout",
          "output_type": "stream",
          "text": [
            "hello\n",
            "HELLO\n"
          ]
        }
      ],
      "source": [
        "# example\n",
        "# funcation\n",
        "def greet():\n",
        "    print(\"hello\")\n",
        "greet()\n",
        "\n",
        "# method\n",
        "text=\"hello\"\n",
        "print(text.upper())"
      ]
    },
    {
      "cell_type": "markdown",
      "id": "fdbcddab-872a-43f7-9f70-f3e1edd11e24",
      "metadata": {
        "id": "fdbcddab-872a-43f7-9f70-f3e1edd11e24"
      },
      "source": [
        "2. Explain the concept of function arguments and parameters in Python.\n",
        "\n",
        "   Answer:- Parameters: Variables listed inside the function definition.\n",
        "\n",
        "      Arguments: Values passed to the function when calling it."
      ]
    },
    {
      "cell_type": "code",
      "execution_count": null,
      "id": "d6c61305-7d2e-4199-b5bc-300d185e2084",
      "metadata": {
        "id": "d6c61305-7d2e-4199-b5bc-300d185e2084",
        "outputId": "6fca8f26-83f1-4ddb-96d9-cb69e4693c20"
      },
      "outputs": [
        {
          "name": "stdout",
          "output_type": "stream",
          "text": [
            "8\n"
          ]
        }
      ],
      "source": [
        "# example\n",
        "def add(a, b):  # a and b are parameters\n",
        "    return a + b\n",
        "\n",
        "result = add(3, 5)  # 3 and 5 are arguments\n",
        "print(result)\n"
      ]
    },
    {
      "cell_type": "markdown",
      "id": "91d116c8-5f44-48cd-95c1-806123242564",
      "metadata": {
        "id": "91d116c8-5f44-48cd-95c1-806123242564"
      },
      "source": [
        "3. What are the different ways to define and call a function in Python?\n",
        "\n",
        "    Answer:- Defining: Using def keyword.\n",
        "\n",
        "   Calling: Using the function name followed by parentheses."
      ]
    },
    {
      "cell_type": "code",
      "execution_count": null,
      "id": "718ad7cf-5c68-43e1-9e44-9b5a8feff282",
      "metadata": {
        "id": "718ad7cf-5c68-43e1-9e44-9b5a8feff282",
        "outputId": "598ea2c0-51b7-4ab5-aae0-3536fbd43a73",
        "colab": {
          "base_uri": "https://localhost:8080/"
        }
      },
      "outputs": [
        {
          "output_type": "stream",
          "name": "stdout",
          "text": [
            "Hello manoj\n"
          ]
        }
      ],
      "source": [
        "# Example\n",
        "# Defining\n",
        "def say_hello(name):\n",
        "    print(\"Hello\", name)\n",
        "\n",
        "# Calling\n",
        "say_hello(\"manoj\")\n"
      ]
    },
    {
      "cell_type": "markdown",
      "id": "fe312bf2-c31e-4608-9c68-7e264da7f9da",
      "metadata": {
        "id": "fe312bf2-c31e-4608-9c68-7e264da7f9da"
      },
      "source": [
        "4. What is the purpose of the return statement in a Python function?\n",
        "\n",
        "    Answer:- It ends the function and sends a value back to the caller."
      ]
    },
    {
      "cell_type": "code",
      "execution_count": null,
      "id": "9eeb0dfe-9ff7-4621-a8fa-2dfb9b955e91",
      "metadata": {
        "id": "9eeb0dfe-9ff7-4621-a8fa-2dfb9b955e91",
        "outputId": "c242a213-9eeb-47a6-e429-24ad5cd9162d"
      },
      "outputs": [
        {
          "name": "stdout",
          "output_type": "stream",
          "text": [
            "16\n"
          ]
        }
      ],
      "source": [
        "# Example\n",
        "def square(x):\n",
        "    return x * x\n",
        "print(square(4))  # Output: 16\n"
      ]
    },
    {
      "cell_type": "markdown",
      "id": "ff06d2f3-82e9-4a0d-98f9-9acd816d1156",
      "metadata": {
        "id": "ff06d2f3-82e9-4a0d-98f9-9acd816d1156"
      },
      "source": [
        "5. What are iterators in Python and how do they differ from iterables?\n",
        "\n",
        "   Answer:- Iterable: An object with an __iter__() method (e.g., list, tuple).\n",
        "            Iterator: An object with __next__() and __iter__() methods."
      ]
    },
    {
      "cell_type": "code",
      "execution_count": null,
      "id": "c2bc7970-fd50-450c-bb4c-653472ec73f1",
      "metadata": {
        "id": "c2bc7970-fd50-450c-bb4c-653472ec73f1",
        "outputId": "fed6c38f-7a5a-425a-da0d-d50b7ee86db8"
      },
      "outputs": [
        {
          "name": "stdout",
          "output_type": "stream",
          "text": [
            "1\n"
          ]
        }
      ],
      "source": [
        "# Example\n",
        "nums = [1, 2, 3]        # iterable\n",
        "it = iter(nums)         # iterator\n",
        "print(next(it))         # Output: 1\n"
      ]
    },
    {
      "cell_type": "markdown",
      "id": "d4d11f2e-0f93-45c9-9dd6-420260002b96",
      "metadata": {
        "id": "d4d11f2e-0f93-45c9-9dd6-420260002b96"
      },
      "source": [
        "6. Explain the concept of generators in Python and how they are defined.\n",
        "\n",
        "   Answer:- A generator is a function that uses (yield) instead of (return) to produce a sequence of results lazily (one at a time)."
      ]
    },
    {
      "cell_type": "code",
      "execution_count": null,
      "id": "12c3d40e-7745-4414-a8d8-ec4330cea819",
      "metadata": {
        "id": "12c3d40e-7745-4414-a8d8-ec4330cea819",
        "outputId": "0f0173c3-8714-4fbc-c635-97e7ae1385a1"
      },
      "outputs": [
        {
          "name": "stdout",
          "output_type": "stream",
          "text": [
            "0\n"
          ]
        }
      ],
      "source": [
        "# Example\n",
        "def gen_numbers():\n",
        "    for i in range(3):\n",
        "        yield i\n",
        "\n",
        "g = gen_numbers()\n",
        "print(next(g))  # Output: 0\n"
      ]
    },
    {
      "cell_type": "markdown",
      "id": "fc716d9a-2b00-4011-8388-948067888725",
      "metadata": {
        "id": "fc716d9a-2b00-4011-8388-948067888725"
      },
      "source": [
        "7. What are the advantages of using generators over regular functions?\n",
        "\n",
        "Answer:- Memory Efficient: Generate values on the fly.\n",
        "\n",
        "        Faster for large data: Avoids loading entire data into memory.\n",
        "\n",
        "        Pause and resume: Can maintain state between calls."
      ]
    },
    {
      "cell_type": "markdown",
      "id": "20e81715-acf7-4f45-a6be-1f6773516cad",
      "metadata": {
        "id": "20e81715-acf7-4f45-a6be-1f6773516cad"
      },
      "source": [
        "8. What is a lambda function in Python and when is it typically used?\n",
        "\n",
        "   Answer:-  A lambda is an anonymous, one-line function.\n",
        "\n",
        "             Used for short functions, especially with map(), filter(), reduce()."
      ]
    },
    {
      "cell_type": "code",
      "execution_count": null,
      "id": "d67e5733-74d1-4c4a-9377-bf000f5ff1a5",
      "metadata": {
        "id": "d67e5733-74d1-4c4a-9377-bf000f5ff1a5",
        "outputId": "964cd432-0ed3-4aa1-84bc-58f60fd62a86"
      },
      "outputs": [
        {
          "name": "stdout",
          "output_type": "stream",
          "text": [
            "25\n"
          ]
        }
      ],
      "source": [
        "# Example\n",
        "square = lambda x: x * x\n",
        "print(square(5))  # Output: 25\n"
      ]
    },
    {
      "cell_type": "markdown",
      "id": "917d5e04-b807-43f3-9301-e3071b88aadb",
      "metadata": {
        "id": "917d5e04-b807-43f3-9301-e3071b88aadb"
      },
      "source": [
        "9. Explain the purpose and usage of the map() function in Python.\n",
        "\n",
        "        Answer:- Applies a function to every item in an iterable."
      ]
    },
    {
      "cell_type": "code",
      "execution_count": null,
      "id": "e04477b8-08f5-4e7b-a22c-1632f777d4fd",
      "metadata": {
        "id": "e04477b8-08f5-4e7b-a22c-1632f777d4fd",
        "outputId": "61f9ae2d-03c0-457d-9cdc-7d67c2ade7d3"
      },
      "outputs": [
        {
          "name": "stdout",
          "output_type": "stream",
          "text": [
            "[1, 4, 9]\n"
          ]
        }
      ],
      "source": [
        "# Example\n",
        "nums = [1, 2, 3]\n",
        "squares = list(map(lambda x: x**2, nums))\n",
        "print(squares)  # Output: [1, 4, 9]\n"
      ]
    },
    {
      "cell_type": "markdown",
      "id": "b245526f-2873-41dd-b0ca-d1121c666f30",
      "metadata": {
        "id": "b245526f-2873-41dd-b0ca-d1121c666f30"
      },
      "source": [
        "10. What is the difference between map(), reduce(), and filter() functions in Python?\n",
        "\n",
        "Answer:-\n",
        "| Function   | Purpose                          | Returns              |\n",
        "| ---------- | -------------------------------- | -------------------- |\n",
        "| `map()`    | Applies function to each item    | New transformed list |\n",
        "| `filter()` | Filters items based on condition | New filtered list    |\n",
        "| `reduce()` | Applies function cumulatively    | Single result value  |\n"
      ]
    },
    {
      "cell_type": "code",
      "execution_count": null,
      "id": "8710f80e-a474-4298-bd99-ebd80c135ff7",
      "metadata": {
        "id": "8710f80e-a474-4298-bd99-ebd80c135ff7",
        "outputId": "59880176-bad2-4f24-f73b-5a1cc51a13b5"
      },
      "outputs": [
        {
          "name": "stdout",
          "output_type": "stream",
          "text": [
            "[2, 3, 4, 5]\n",
            "[2, 4]\n",
            "10\n"
          ]
        }
      ],
      "source": [
        "# Examples\n",
        "from functools import reduce\n",
        "\n",
        "nums = [1, 2, 3, 4]\n",
        "\n",
        "print(list(map(lambda x: x+1, nums)))  # [2,3,4,5]\n",
        "print(list(filter(lambda x: x%2==0, nums)))  # [2,4]\n",
        "print(reduce(lambda x,y: x+y, nums))  # 10\n"
      ]
    },
    {
      "cell_type": "markdown",
      "id": "da86f0df-17c7-4a82-8496-a0be5424ae44",
      "metadata": {
        "id": "da86f0df-17c7-4a82-8496-a0be5424ae44"
      },
      "source": [
        "11. Using pen & paper, write the internal mechanism for sum operation using reduce() function on this list: [47,11,42,13]"
      ]
    },
    {
      "cell_type": "markdown",
      "id": "e6fedd47-f78a-4e70-9eb0-37ba9e2bfcf1",
      "metadata": {
        "id": "e6fedd47-f78a-4e70-9eb0-37ba9e2bfcf1"
      },
      "source": [
        "![WhatsApp Image 2025-05-09 at 12.49.15_1c7449db.jpg](attachment:d8b6b432-f28c-4b41-a42a-66ab1398bfd2.jpg)"
      ]
    },
    {
      "cell_type": "markdown",
      "id": "bd935cb1-76c8-4840-873d-38b91df803ed",
      "metadata": {
        "id": "bd935cb1-76c8-4840-873d-38b91df803ed"
      },
      "source": [
        "   practical question"
      ]
    },
    {
      "cell_type": "markdown",
      "id": "91bc04d0-af51-4c9b-a6db-865c646d0d17",
      "metadata": {
        "id": "91bc04d0-af51-4c9b-a6db-865c646d0d17"
      },
      "source": [
        "1. Write a Python function that takes a list of numbers as input and returns the sum of all even numbers in the list."
      ]
    },
    {
      "cell_type": "code",
      "execution_count": null,
      "id": "5f6682a5-fff9-43d4-a2da-54538d0b59e6",
      "metadata": {
        "id": "5f6682a5-fff9-43d4-a2da-54538d0b59e6",
        "outputId": "f4312d39-6ce5-4415-8323-9f382a9d7e8a"
      },
      "outputs": [
        {
          "name": "stdout",
          "output_type": "stream",
          "text": [
            "12\n"
          ]
        }
      ],
      "source": [
        "def sum_even_numbers(lst):\n",
        "    return sum(x for x in lst if x % 2 == 0)\n",
        "\n",
        "# Example\n",
        "print(sum_even_numbers([1, 2, 3, 4, 5, 6]))  # Output: 12\n"
      ]
    },
    {
      "cell_type": "markdown",
      "id": "cb0b7fe4-1590-4ea2-85a5-755b5ec0f2cc",
      "metadata": {
        "id": "cb0b7fe4-1590-4ea2-85a5-755b5ec0f2cc"
      },
      "source": [
        "2. Create a Python function that accepts a string and returns the reverse of that string.\n",
        "python\n",
        "Copy code\n"
      ]
    },
    {
      "cell_type": "code",
      "execution_count": null,
      "id": "667df6dd-b015-486b-89d5-283c43f98f47",
      "metadata": {
        "id": "667df6dd-b015-486b-89d5-283c43f98f47",
        "outputId": "153b30df-8ca2-472c-ea11-35668dc02259"
      },
      "outputs": [
        {
          "name": "stdout",
          "output_type": "stream",
          "text": [
            "nohtyP\n"
          ]
        }
      ],
      "source": [
        "def reverse_string(s):\n",
        "    return s[::-1]\n",
        "\n",
        "# Example\n",
        "print(reverse_string(\"Python\"))  # Output: nohtyP\n"
      ]
    },
    {
      "cell_type": "markdown",
      "id": "bccfb1fc-56bf-4df2-974a-96ec7b97c043",
      "metadata": {
        "id": "bccfb1fc-56bf-4df2-974a-96ec7b97c043"
      },
      "source": [
        "3. Implement a Python function that takes a list of integers and returns a new list containing the squares of each number."
      ]
    },
    {
      "cell_type": "code",
      "execution_count": null,
      "id": "bdcf1c47-f792-4e4e-afca-8dc4631e400f",
      "metadata": {
        "id": "bdcf1c47-f792-4e4e-afca-8dc4631e400f",
        "outputId": "2e999c3a-2020-4397-cf3f-34c1694d542c"
      },
      "outputs": [
        {
          "name": "stdout",
          "output_type": "stream",
          "text": [
            "[1, 4, 9]\n"
          ]
        }
      ],
      "source": [
        "def square_list(lst):\n",
        "    return [x**2 for x in lst]\n",
        "\n",
        "# Example\n",
        "print(square_list([1, 2, 3]))  # Output: [1, 4, 9]\n"
      ]
    },
    {
      "cell_type": "markdown",
      "id": "8ee770f8-3c95-4dad-a5b7-55869fcf4b53",
      "metadata": {
        "id": "8ee770f8-3c95-4dad-a5b7-55869fcf4b53"
      },
      "source": [
        "4. Write a Python function that checks if a given number is prime or not from 1 to 200."
      ]
    },
    {
      "cell_type": "code",
      "execution_count": null,
      "id": "da09ea77-c555-45bd-825c-acf645965ede",
      "metadata": {
        "id": "da09ea77-c555-45bd-825c-acf645965ede",
        "outputId": "355c1213-ad17-4f58-dad9-0f9f376f5d31"
      },
      "outputs": [
        {
          "name": "stdout",
          "output_type": "stream",
          "text": [
            "True\n"
          ]
        }
      ],
      "source": [
        "def is_prime(n):\n",
        "    if n <= 1:\n",
        "        return False\n",
        "    for i in range(2, int(n**0.5)+1):\n",
        "        if n % i == 0:\n",
        "            return False\n",
        "    return True\n",
        "\n",
        "# Example\n",
        "print(is_prime(11))  # Output: True\n"
      ]
    },
    {
      "cell_type": "markdown",
      "id": "3cdf531d-e794-4657-9717-95882741e68f",
      "metadata": {
        "id": "3cdf531d-e794-4657-9717-95882741e68f"
      },
      "source": [
        "5. Create an iterator class in Python that generates the Fibonacci sequence up to a specified number of terms."
      ]
    },
    {
      "cell_type": "code",
      "execution_count": null,
      "id": "6a2cc332-36a9-43ab-9360-f304705375ea",
      "metadata": {
        "id": "6a2cc332-36a9-43ab-9360-f304705375ea",
        "outputId": "ffe6276f-6e89-4b61-831e-9ac9cf6c0dd4"
      },
      "outputs": [
        {
          "name": "stdout",
          "output_type": "stream",
          "text": [
            "0\n",
            "1\n",
            "1\n",
            "2\n",
            "3\n"
          ]
        }
      ],
      "source": [
        "class Fibonacci:\n",
        "    def __init__(self, limit):\n",
        "        self.a, self.b = 0, 1\n",
        "        self.limit = limit\n",
        "        self.count = 0\n",
        "\n",
        "    def __iter__(self):\n",
        "        return self\n",
        "\n",
        "    def __next__(self):\n",
        "        if self.count >= self.limit:\n",
        "            raise StopIteration\n",
        "        value = self.a\n",
        "        self.a, self.b = self.b, self.a + self.b\n",
        "        self.count += 1\n",
        "        return value\n",
        "\n",
        "# Example\n",
        "for num in Fibonacci(5):\n",
        "    print(num)  # Output: 0 1 1 2 3\n"
      ]
    },
    {
      "cell_type": "markdown",
      "id": "4b6f2b82-2b17-4670-99e6-1f47d52ef97a",
      "metadata": {
        "id": "4b6f2b82-2b17-4670-99e6-1f47d52ef97a"
      },
      "source": [
        "6. Write a generator function in Python that yields the powers of 2 up to a given exponent."
      ]
    },
    {
      "cell_type": "code",
      "execution_count": null,
      "id": "95d5a3fa-c487-4b39-ad60-0d3603763833",
      "metadata": {
        "id": "95d5a3fa-c487-4b39-ad60-0d3603763833",
        "outputId": "fc4fbff9-62f7-45d9-beab-61dd122fc400"
      },
      "outputs": [
        {
          "name": "stdout",
          "output_type": "stream",
          "text": [
            "1\n",
            "2\n",
            "4\n",
            "8\n",
            "16\n"
          ]
        }
      ],
      "source": [
        "def power_of_two(n):\n",
        "    for i in range(n+1):\n",
        "        yield 2**i\n",
        "\n",
        "# Example\n",
        "for i in power_of_two(4):\n",
        "    print(i)  # Output: 1 2 4 8 16\n"
      ]
    },
    {
      "cell_type": "markdown",
      "id": "b331f950-1c96-4e3b-9b61-604696c75cc2",
      "metadata": {
        "id": "b331f950-1c96-4e3b-9b61-604696c75cc2"
      },
      "source": [
        "7. Implement a generator function that reads a file line by line and yields each line as a string."
      ]
    },
    {
      "cell_type": "code",
      "execution_count": null,
      "id": "552d79ed-946f-4a4c-8262-935ede3a6fff",
      "metadata": {
        "id": "552d79ed-946f-4a4c-8262-935ede3a6fff"
      },
      "outputs": [],
      "source": [
        "def read_file_lines(file_path):\n",
        "    with open(file_path, 'r') as file:\n",
        "        for line in file:\n",
        "            yield line.strip()\n",
        "\n",
        "# Usage Example (Assuming 'sample.txt' exists)\n",
        "# for line in read_file_lines('sample.txt'):\n",
        "#     print(line)"
      ]
    },
    {
      "cell_type": "markdown",
      "id": "21323ae7-c1e0-4cc2-a405-5d461b2b47a3",
      "metadata": {
        "id": "21323ae7-c1e0-4cc2-a405-5d461b2b47a3"
      },
      "source": [
        "8. Use a lambda function in Python to sort a list of tuples based on the second element of each tuple."
      ]
    },
    {
      "cell_type": "code",
      "execution_count": null,
      "id": "e2db669f-71a0-4a64-a8d9-325d0cbdb6f7",
      "metadata": {
        "id": "e2db669f-71a0-4a64-a8d9-325d0cbdb6f7",
        "outputId": "2151c8a9-3ad0-4eaf-acc9-86a37c379d24"
      },
      "outputs": [
        {
          "name": "stdout",
          "output_type": "stream",
          "text": [
            "[(2, 1), (4, 2), (1, 3)]\n"
          ]
        }
      ],
      "source": [
        "tuples = [(1, 3), (2, 1), (4, 2)]\n",
        "sorted_tuples = sorted(tuples, key=lambda x: x[1])\n",
        "print(sorted_tuples)  # Output: [(2, 1), (4, 2), (1, 3)]\n"
      ]
    },
    {
      "cell_type": "markdown",
      "id": "e54e5608-a50c-4672-8ac3-58d42066fe2d",
      "metadata": {
        "id": "e54e5608-a50c-4672-8ac3-58d42066fe2d"
      },
      "source": [
        "9. Write a Python program that uses map() to convert a list of temperatures from Celsius to Fahrenheit.\n",
        "python\n",
        "Copy code\n"
      ]
    },
    {
      "cell_type": "code",
      "execution_count": null,
      "id": "d34d5344-615c-4d42-959a-fb4866e1a061",
      "metadata": {
        "id": "d34d5344-615c-4d42-959a-fb4866e1a061",
        "outputId": "67fd6652-485f-4db1-c259-7645d22861c0"
      },
      "outputs": [
        {
          "name": "stdout",
          "output_type": "stream",
          "text": [
            "[32.0, 50.0, 68.0, 86.0]\n"
          ]
        }
      ],
      "source": [
        "celsius = [0, 10, 20, 30]\n",
        "fahrenheit = list(map(lambda c: (c * 9/5) + 32, celsius))\n",
        "print(fahrenheit)  # Output: [32.0, 50.0, 68.0, 86.0]\n"
      ]
    },
    {
      "cell_type": "markdown",
      "id": "0ada3b1c-7ffb-415d-a2b2-a524cbaa99de",
      "metadata": {
        "id": "0ada3b1c-7ffb-415d-a2b2-a524cbaa99de"
      },
      "source": [
        "10. Create a Python program that uses filter() to remove all the vowels from a given string.\n",
        "python\n",
        "Copy code\n"
      ]
    },
    {
      "cell_type": "code",
      "execution_count": null,
      "id": "12c70094-64b6-4989-b655-f9e6a325437e",
      "metadata": {
        "id": "12c70094-64b6-4989-b655-f9e6a325437e",
        "outputId": "76b73fd5-34df-43b8-88ff-9074244bfd55"
      },
      "outputs": [
        {
          "name": "stdout",
          "output_type": "stream",
          "text": [
            "Hll Wrld\n"
          ]
        }
      ],
      "source": [
        "def remove_vowels(s):\n",
        "    return ''.join(filter(lambda x: x.lower() not in 'aeiou', s))\n",
        "\n",
        "# Example\n",
        "print(remove_vowels(\"Hello World\"))  # Output: Hll Wrld\n"
      ]
    },
    {
      "cell_type": "markdown",
      "id": "12869f9e-6df6-42a2-bd0b-2b558b911b92",
      "metadata": {
        "id": "12869f9e-6df6-42a2-bd0b-2b558b911b92"
      },
      "source": [
        "11. Accounting routine:\n",
        "Given list:\n",
        "\n",
        "python\n",
        "Copy code\n",
        "books = [\n",
        "    [34587, \"Learning Python, Mark Lutz\", 4, 40.95],\n",
        "    [98762, \"Programming Python, Mark Lutz\", 5, 56.80],\n",
        "    [77226, \"Head First Python, Paul Barry\", 3, 32.95],\n",
        "    [88112, \"Einführung in Python3, Bernd Klein\", 3, 24.99]\n",
        "]\n",
        "Requirement:\n",
        "\n",
        "Return a list of 2-tuples (order number, total).\n",
        "\n",
        "Increase total by €10 if it's under €100.\n",
        "\n",
        "Use lambda and map."
      ]
    },
    {
      "cell_type": "code",
      "execution_count": null,
      "id": "29c95a5d-0d77-4081-a674-142bc9400c64",
      "metadata": {
        "id": "29c95a5d-0d77-4081-a674-142bc9400c64",
        "outputId": "6c2c0833-d7dd-4ec9-de69-bbe160e7c526"
      },
      "outputs": [
        {
          "name": "stdout",
          "output_type": "stream",
          "text": [
            "[(34587, 163.8), (98762, 284.0), (77226, 108.85000000000001), (88112, 84.97)]\n"
          ]
        }
      ],
      "source": [
        "books = [\n",
        "    [34587, \"Learning Python, Mark Lutz\", 4, 40.95],\n",
        "    [98762, \"Programming Python, Mark Lutz\", 5, 56.80],\n",
        "    [77226, \"Head First Python, Paul Barry\", 3, 32.95],\n",
        "    [88112, \"Einführung in Python3, Bernd Klein\", 3, 24.99]\n",
        "]\n",
        "\n",
        "result = list(map(lambda x: (x[0], x[2] * x[3] + 10 if x[2] * x[3] < 100 else x[2] * x[3]),books))\n",
        "print(result)\n"
      ]
    },
    {
      "cell_type": "code",
      "execution_count": null,
      "id": "68b092e7-ead8-45ed-bb4e-02147272ca64",
      "metadata": {
        "id": "68b092e7-ead8-45ed-bb4e-02147272ca64"
      },
      "outputs": [],
      "source": []
    }
  ],
  "metadata": {
    "kernelspec": {
      "display_name": "Python 3 (ipykernel)",
      "language": "python",
      "name": "python3"
    },
    "language_info": {
      "codemirror_mode": {
        "name": "ipython",
        "version": 3
      },
      "file_extension": ".py",
      "mimetype": "text/x-python",
      "name": "python",
      "nbconvert_exporter": "python",
      "pygments_lexer": "ipython3",
      "version": "3.12.7"
    },
    "colab": {
      "provenance": []
    }
  },
  "nbformat": 4,
  "nbformat_minor": 5
}